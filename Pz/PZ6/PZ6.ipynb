{
 "cells": [
  {
   "cell_type": "markdown",
   "id": "96b80e02-b2b2-4c84-9ee1-3048acd291b2",
   "metadata": {},
   "source": [
    "# Практична робота №6.Графи. Найкоротші шляхи\n",
    "## Підготував: Саєнко Олексій\n"
   ]
  },
  {
   "attachments": {
    "f8bb1375-2a3d-46a2-ae72-fe399adb0918.png": {
     "image/png": "[encoded data removed]"
    }
   },
   "cell_type": "markdown",
   "id": "a4e903e0-0b04-4846-9b4d-9f9f0271d618",
   "metadata": {},
   "source": [
    "## 1. За алгоритмом Флойда-Форшала\n",
    "  ![image.png](attachment:f8bb1375-2a3d-46a2-ae72-fe399adb0918.png) "
   ]
  },
  {
   "cell_type": "markdown",
   "id": "5beaaa7d-0ab4-4a48-9e2d-2c33ef43e821",
   "metadata": {},
   "source": [
    "``` python\n",
    "import numpy as np\n",
    "\n",
    "# Кількість вершин\n",
    "n = 6\n",
    "INF = 10**9  # Нескінченність\n",
    "\n",
    "# Створюємо матрицю відстаней, початково всі відстані — нескінченність\n",
    "dist = np.full((n, n), INF)\n",
    "\n",
    "# Відстань від вершини до самої себе — 0\n",
    "for i in range(n):\n",
    "    dist[i][i] = 0\n",
    "\n",
    "# Список ребер графа з рисунка\n",
    "# Формат: (вершина_1, вершина_2, вага)\n",
    "edges = [\n",
    "    (0, 1, 7),\n",
    "    (0, 2, 9),\n",
    "    (0, 5, 14),\n",
    "    (1, 2, 10),\n",
    "    (1, 3, 15),\n",
    "    (2, 3, 11),\n",
    "    (2, 5, 2),\n",
    "    (3, 4, 6),\n",
    "    (4, 5, 9)\n",
    "]\n",
    "\n",
    "# Заповнюємо ваги ребер (граф неорієнтований — зв'язки в обидва боки)\n",
    "for u, v, w in edges:\n",
    "    dist[u][v] = w\n",
    "    dist[v][u] = w\n",
    "\n",
    "# Алгоритм Флойда–Воршелла\n",
    "for k in range(n):\n",
    "    for i in range(n):\n",
    "        for j in range(n):\n",
    "            if dist[i][j] > dist[i][k] + dist[k][j]:\n",
    "                dist[i][j] = dist[i][k] + dist[k][j]\n",
    "\n",
    "# Вивід результату\n",
    "print(\"Матриця найкоротших відстаней між усіма вершинами (індексація з 0):\")\n",
    "print(dist)\n",
    "```"
   ]
  },
  {
   "cell_type": "code",
   "execution_count": 4,
   "id": "e0d94f93-c1ad-4589-b5f5-a1941a0a4b91",
   "metadata": {},
   "outputs": [
    {
     "ename": "SyntaxError",
     "evalue": "invalid syntax (475106411.py, line 1)",
     "output_type": "error",
     "traceback": [
      "\u001b[1;36m  Cell \u001b[1;32mIn[4], line 1\u001b[1;36m\u001b[0m\n\u001b[1;33m    ``` python\u001b[0m\n\u001b[1;37m    ^\u001b[0m\n\u001b[1;31mSyntaxError\u001b[0m\u001b[1;31m:\u001b[0m invalid syntax\n"
     ]
    }
   ],
   "source": [
    "\n",
    "Матриця найкоротших відстаней між усіма вершинами (індексація з 0):\n",
    "[[ 0  7  9 20 20 11]\n",
    " [ 7  0 10 15 21 12]\n",
    " [ 9 10  0 11 11  2]\n",
    " [20 15 11  0  6 13]\n",
    " [20 21 11  6  0  9]\n",
    " [11 12  2 13  9  0]]\n"
   ]
  },
  {
   "cell_type": "markdown",
   "id": "71ccc791-bd7d-45dc-9644-3c2500746cb1",
   "metadata": {},
   "source": [
    "## 2.Контрольні питання\n",
    "- Що таке граф і які головні складові його структури? - Граф це структура яку використовують для моделювання відношень між обєктами , складається з вершин та ребер.\n",
    "- Які алгоритми використовуються для пошуку найкоротших шляхів у графах - Дейкстри , Беллмана Форда та Флойда Вершелла.\n",
    "\n",
    "- Алгоритм Дейкстри шукає найкоротші шляхи від початкової вершини до всіх інших у графі з невід’ємними вагами. Ініціалізуються відстані (0 для стартової вершини, ∞ для інших) і множини відвіданих/невідвіданих. Поки є невідвідані вершини, вибирається та, що має мінімальну відстань, і для її сусідів оновлюються шляхи, якщо нова відстань менша. Алгоритм не працює з від’ємними вагами, але ефективний і добре масштабується при правильній реалізації (наприклад, з чергою з пріоритетом).\n",
    "- Що таке алгоритм Белмена–Форда і коли його варто застосовувати? - це алгоритм який використовують для пошуку найкоротших шляхів від однієї точки до інших , приклад використання є в цьому пз.Його основною фішкою є те що його можно використати у графах з відємними ребрами , саме в цих графах його краще використовувати.\n",
    "\n",
    "- Як працює алгоритм Флойда–Форшала і які його переваги та недоліки? - це алгоритм який використовують для пошуку найкоротших шляхів між усіма парами вершин у зваженому графі. Переваги - проста реалізація , знаходить найкоротші шляхі між всіма парами вершин , може працювати з відємними вагами ребер.Недоліки - висока асимптотична складність , не виявляє цикли з від'ємною сумою ваг безпосередньо.\n"
   ]
  }
 ],
 "metadata": {
  "kernelspec": {
   "display_name": "Python [conda env:base] *",
   "language": "python",
   "name": "conda-base-py"
  },
  "language_info": {
   "codemirror_mode": {
    "name": "ipython",
    "version": 3
   },
   "file_extension": ".py",
   "mimetype": "text/x-python",
   "name": "python",
   "nbconvert_exporter": "python",
   "pygments_lexer": "ipython3",
   "version": "3.12.7"
  }
 },
 "nbformat": 4,
 "nbformat_minor": 5
}
