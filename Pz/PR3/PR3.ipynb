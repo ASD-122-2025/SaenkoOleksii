{
 "cells": [
  {
   "cell_type": "markdown",
   "id": "cf74c1bc-b3bd-46e1-90f8-0593f5da2316",
   "metadata": {},
   "source": [
    "# Практична робота № 3"
   ]
  },
  {
   "cell_type": "markdown",
   "id": "e502eb40-ec26-4a3c-b41e-6d60d89fafe5",
   "metadata": {},
   "source": [
    "## Тема. Алгоритми сортування та їх складність. Порівняння алгоритмів сортування\n"
   ]
  },
  {
   "cell_type": "markdown",
   "id": "a99f124e-a324-4abe-a3b1-e5b029895799",
   "metadata": {},
   "source": [
    "## Мета: опанувати основні алгоритми сортування та навчитись методам аналізу їх асимптотичної складності."
   ]
  },
  {
   "cell_type": "markdown",
   "id": "ea8fb594-eabc-4344-b1c8-b170abead090",
   "metadata": {},
   "source": [
    "## 1. Алгоритм бульбашкового сортування:\n",
    " ``` python\n",
    "   for i from 0 to n - 1:\n",
    "    for j from 0 to n - i - 2:\n",
    "        if A[j] > A[j + 1]:\n",
    "            swap A[j] and A[j + 1]\n",
    "   ```\n",
    "Алгоритм послідовно порівнює сусідні елементи масиву та міняє їх місцями, якщо вони стоять не в тому порядку. Найбільші значення \"спливають\" вгору (до кінця масиву), як бульбашки.\n",
    "Асимптотична складність: O(n²), У найкращому випадку: O(n).\n",
    "### Bubble Sort — простий, але повільний алгоритм з асимптотикою O(n²), який робить багато зайвих обмінів.\n",
    "### Insertion Sort — також має O(n²), але працює ефективніше на майже відсортованих масивах завдяки меншій кількості операцій.\n",
    "    "
   ]
  },
  {
   "cell_type": "markdown",
   "id": "f76d4eb8-4417-40fa-9cb4-3a43ebb396d9",
   "metadata": {},
   "source": [
    "## 2. Алгоритм сортування злиттям:\n",
    "``` python\n",
    "MergeSort(A)\n",
    "    if length(A) ≤ 1\n",
    "        return A\n",
    "\n",
    "    mid ← length(A) / 2\n",
    "    left ← MergeSort(A[0...mid-1])\n",
    "    right ← MergeSort(A[mid...end])\n",
    "\n",
    "    return Merge(left, right)\n",
    "\n",
    "\n",
    "Merge(left, right)\n",
    "    result ← empty array\n",
    "    while left is not empty and right is not empty\n",
    "        if left[0] ≤ right[0]\n",
    "            append left[0] to result\n",
    "            remove left[0] from left\n",
    "        else\n",
    "            append right[0] to result\n",
    "            remove right[0] from right\n",
    "\n",
    "    append remaining elements of left to result\n",
    "    append remaining elements of right to result\n",
    "\n",
    "    return result\n",
    "```\n",
    " ### Merge Sort має складність O(n log n) у найгіршому, найкращому і середньому випадках."
   ]
  },
  {
   "cell_type": "markdown",
   "id": "ffd4ade1-cdcd-47bc-8e9e-df8e87ed5065",
   "metadata": {},
   "source": [
    "### 3.  Алгоритм швидкого сортування:\n",
    "``` python\n",
    "QuickSort(A, low, high)\n",
    "    if low < high\n",
    "        pivotIndex ← Partition(A, low, high)\n",
    "        QuickSort(A, low, pivotIndex - 1)\n",
    "        QuickSort(A, pivotIndex + 1, high)\n",
    "\n",
    "Partition(A, low, high)\n",
    "    pivot ← A[high]\n",
    "    i ← low - 1\n",
    "    for j ← low to high - 1\n",
    "        if A[j] ≤ pivot\n",
    "            i ← i + 1\n",
    "            swap A[i] and A[j]\n",
    "    swap A[i + 1] and A[high]\n",
    "    return i + 1\n",
    "```\n",
    "### У найшіршому випадку O(n²), в інших O(n log n)"
   ]
  },
  {
   "cell_type": "markdown",
   "id": "19da7e65-4788-40cd-87be-194d9765cf35",
   "metadata": {},
   "source": [
    "# Контрольні питання:\n",
    "1. Асимптотична складність — це характеристика швидкості зростання часу виконання алгоритму при збільшенні розміру вхідних даних n.\n",
    "Вона важлива, бо дозволяє порівнювати ефективність алгоритмів незалежно від конкретної реалізації або комп'ютера, особливо на великих об'ємах даних.\n",
    "2. Квадратичну складність O(n²) мають: Bubble Sort (сортування бульбашкою),Insertion Sort (вставками),Selection Sort (вибором)\n",
    "3.  Merge Sort масштабуються краще, і значно швидший для великих обсягів даних\n",
    "4.  Python (sort, sorted):Використовує Timsort — гібрид Merge Sort та Insertion Sort.\n",
    "\n",
    "    Java (Arrays.sort):Для масивів примітивів — Dual-Pivot QuickSort Для об’єктів — Timsort.\n",
    "\n",
    "    C++ (std::sort):Використовує Introsort — поєднання QuickSort, HeapSort і Insertion Sort.\n",
    "5. Merge Sort — краще для великих даних або коли важлива стабільність.Quick Sort — зазвичай швидший на практиці, якщо не боїшся гіршого випадку.\n",
    "6. "
   ]
  }
 ],
 "metadata": {
  "kernelspec": {
   "display_name": "Python [conda env:base] *",
   "language": "python",
   "name": "conda-base-py"
  },
  "language_info": {
   "codemirror_mode": {
    "name": "ipython",
    "version": 3
   },
   "file_extension": ".py",
   "mimetype": "text/x-python",
   "name": "python",
   "nbconvert_exporter": "python",
   "pygments_lexer": "ipython3",
   "version": "3.12.7"
  }
 },
 "nbformat": 4,
 "nbformat_minor": 5
}
